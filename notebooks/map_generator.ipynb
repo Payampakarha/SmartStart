{
 "cells": [
  {
   "cell_type": "markdown",
   "metadata": {},
   "source": [
    "This notebook is used to generate maps in html format based on results files, and cleaned data files. The reason behind creating this was as google cloud would not allow rewriting the html file (in an easy way), and to save the processing time when the application is used. At the time when this is created, a total of 140 maps are needed. This solution cannot be scaled for project upgrades. "
   ]
  },
  {
   "cell_type": "markdown",
   "metadata": {},
   "source": [
    "# Imports"
   ]
  },
  {
   "cell_type": "code",
   "execution_count": 1,
   "metadata": {},
   "outputs": [],
   "source": [
    "import folium\n",
    "import pandas as pd"
   ]
  },
  {
   "cell_type": "markdown",
   "metadata": {},
   "source": [
    "# Function to create a map"
   ]
  },
  {
   "cell_type": "code",
   "execution_count": 2,
   "metadata": {},
   "outputs": [],
   "source": [
    "# Generates a html map with two series of markers inlcuding existing business, and suggested results. \n",
    "# Each series require an specific format of dictionary data \n",
    "def create_map(center, zoom, result_locations, existing_locations):\n",
    "    result_map = folium.Map(location=center, zoom_start=13)\n",
    "    for point in result_locations :\n",
    "        location = [point['lat'], point['lon']]\n",
    "        popup = \"PCF = {0}, PS ={1}\".format(point['PCF_norm'], point['PS_norm'],)\n",
    "        folium.Marker(location=location,popup=popup,icon=folium.Icon(color='green')).add_to(result_map)\n",
    "    for point in existing_locations :\n",
    "        location = [point['latitude'], point['longitude']]\n",
    "        popup = \"{0}\".format(point['Name'])\n",
    "        folium.Marker(location=location,popup=popup,icon=folium.Icon(color='red')).add_to(result_map)\n",
    "    return (result_map)"
   ]
  },
  {
   "cell_type": "markdown",
   "metadata": {},
   "source": [
    "# loop over businesses and result ranges to create maps, using the function"
   ]
  },
  {
   "cell_type": "code",
   "execution_count": 12,
   "metadata": {},
   "outputs": [],
   "source": [
    "data_folder = '/home/payam/workdir/data/'\n",
    "city = 'Kingston'\n",
    "businesses = ['bakery','dairy','fitness center','grocery', 'hair care','laundry', 'Swimming pool']\n",
    "for business in businesses : \n",
    "    data_filename = data_folder + business + '_in_' + city + '_cleaned.csv'\n",
    "    results_filename = data_folder  + business + '_in_' + city + '_results.csv'\n",
    "    similar_businesses_df = pd.read_csv(data_filename)\n",
    "    results_df = pd.read_csv(results_filename)\n",
    "    sim_points = similar_businesses_df.to_dict('records')\n",
    "    for pareto_start in range(0,100,5) :\n",
    "        selected_df = results_df.sort_values('PS', ascending =True)[pareto_start:pareto_start+5]\n",
    "        target_points = selected_df.to_dict('records')\n",
    "        result_map =  create_map([44.24, -76.58], 13, target_points, sim_points)\n",
    "        map_name = '/home/payam/workdir/maps/map_'+ business + '_in_' + city + '_' + str(pareto_start) + '_' + str(pareto_start+5) + '.html'\n",
    "        result_map.save(map_name)"
   ]
  },
  {
   "cell_type": "code",
   "execution_count": null,
   "metadata": {},
   "outputs": [],
   "source": []
  }
 ],
 "metadata": {
  "kernelspec": {
   "display_name": "Python 3",
   "language": "python",
   "name": "python3"
  },
  "language_info": {
   "codemirror_mode": {
    "name": "ipython",
    "version": 3
   },
   "file_extension": ".py",
   "mimetype": "text/x-python",
   "name": "python",
   "nbconvert_exporter": "python",
   "pygments_lexer": "ipython3",
   "version": "3.6.7"
  }
 },
 "nbformat": 4,
 "nbformat_minor": 2
}
